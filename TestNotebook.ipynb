{
 "cells": [
  {
   "cell_type": "code",
   "execution_count": 10,
   "id": "00d55ded",
   "metadata": {},
   "outputs": [],
   "source": [
    "import inspect\n",
    "from modules.open_digraph import *\n",
    "from pprint import pprint"
   ]
  },
  {
   "cell_type": "code",
   "execution_count": 4,
   "id": "fcf46337",
   "metadata": {},
   "outputs": [
    {
     "name": "stdout",
     "output_type": "stream",
     "text": [
      "__class__ : <class 'type'>\n"
     ]
    }
   ],
   "source": [
    "for key, data in inspect.getmembers(open_digraph, inspect.isclass):\n",
    "    print('{} : {!r}'.format(key, data))\n"
   ]
  },
  {
   "cell_type": "code",
   "execution_count": 5,
   "id": "d963683c",
   "metadata": {},
   "outputs": [
    {
     "name": "stdout",
     "output_type": "stream",
     "text": [
      "add_input_id : <function open_digraph.add_input_id at 0x7f0221f0af70>\n",
      "add_output_id : <function open_digraph.add_output_id at 0x7f0221f27040>\n",
      "copy : <function open_digraph.copy at 0x7f0221f270d0>\n",
      "empty : <bound method open_digraph.empty of <class 'modules.open_digraph.open_digraph'>>\n",
      "get_id_node_map : <function open_digraph.get_id_node_map at 0x7f0221f0aca0>\n",
      "get_input_ids : <function open_digraph.get_input_ids at 0x7f0221f0ab80>\n",
      "get_node_ids : <function open_digraph.get_node_ids at 0x7f0221f0adc0>\n",
      "get_nodes : <function open_digraph.get_nodes at 0x7f0221f0ad30>\n",
      "get_output_ids : <function open_digraph.get_output_ids at 0x7f0221f0ac10>\n",
      "set_input_ids : <function open_digraph.set_input_ids at 0x7f0221f0ae50>\n",
      "set_output_ids : <function open_digraph.set_output_ids at 0x7f0221f0aee0>\n"
     ]
    }
   ],
   "source": [
    "for name, data in inspect.getmembers(open_digraph):\n",
    "    if name.startswith('__'):\n",
    "        continue\n",
    "    print('{} : {!r}'.format(name, data))\n"
   ]
  },
  {
   "cell_type": "code",
   "execution_count": 13,
   "id": "dff5119f",
   "metadata": {},
   "outputs": [
    {
     "name": "stdout",
     "output_type": "stream",
     "text": [
      "[('__init__', <function open_digraph.__init__ at 0x7f0221f0a9d0>),\n",
      " ('__repr__', <function open_digraph.__repr__ at 0x7f0221f0aaf0>),\n",
      " ('__str__', <function open_digraph.__str__ at 0x7f0221f0aa60>),\n",
      " ('add_input_id', <function open_digraph.add_input_id at 0x7f0221f0af70>),\n",
      " ('add_output_id', <function open_digraph.add_output_id at 0x7f0221f27040>),\n",
      " ('copy', <function open_digraph.copy at 0x7f0221f270d0>),\n",
      " ('get_id_node_map', <function open_digraph.get_id_node_map at 0x7f0221f0aca0>),\n",
      " ('get_input_ids', <function open_digraph.get_input_ids at 0x7f0221f0ab80>),\n",
      " ('get_node_ids', <function open_digraph.get_node_ids at 0x7f0221f0adc0>),\n",
      " ('get_nodes', <function open_digraph.get_nodes at 0x7f0221f0ad30>),\n",
      " ('get_output_ids', <function open_digraph.get_output_ids at 0x7f0221f0ac10>),\n",
      " ('set_input_ids', <function open_digraph.set_input_ids at 0x7f0221f0ae50>),\n",
      " ('set_output_ids', <function open_digraph.set_output_ids at 0x7f0221f0aee0>)]\n"
     ]
    }
   ],
   "source": [
    "pprint(inspect.getmembers(open_digraph, inspect.isfunction))\n"
   ]
  },
  {
   "cell_type": "code",
   "execution_count": 15,
   "id": "c38827e7",
   "metadata": {},
   "outputs": [
    {
     "name": "stdout",
     "output_type": "stream",
     "text": [
      "open_digraph.__doc__:\n",
      "None\n",
      "\n",
      "getdoc(open_digraph):\n",
      "None\n"
     ]
    }
   ],
   "source": [
    "print('open_digraph.__doc__:')\n",
    "print(open_digraph.__doc__)\n",
    "print()\n",
    "print('getdoc(open_digraph):')\n",
    "print(inspect.getdoc(open_digraph))\n"
   ]
  },
  {
   "cell_type": "code",
   "execution_count": 17,
   "id": "e7f15c1a",
   "metadata": {},
   "outputs": [
    {
     "name": "stdout",
     "output_type": "stream",
     "text": [
      "class node:\n",
      "\n",
      "    def __init__(self, identity, label, parents, children):\n",
      "        '''\n",
      "        identity: int; its unique id in the graph\n",
      "        label: string;\n",
      "        parents: int->int dict; maps a parent node's id to its multiplicity\n",
      "        children: int->int dict; maps a child node's id to its multiplicity\n",
      "        '''\n",
      "        self.id = identity\n",
      "        self.label = label\n",
      "        self.parents = parents\n",
      "        self.children = children\n",
      "        \n",
      "    def __str__(self):\n",
      "        return f'identity: {self.id}, label: {self.label}, children: {self.children}'\n",
      "        \n",
      "    def __repr__(self):\n",
      "        return str(self)\n",
      "\n",
      "    # getters node\n",
      "    def get_id(self):\n",
      "        return self.id\n",
      "\n",
      "    def get_label(self):\n",
      "        return self.label\n",
      "\n",
      "    def get_parents_id(self):\n",
      "        return self.parents\n",
      "\n",
      "    def get_children_id(self):\n",
      "        return self.children\n",
      "\n",
      "    # setters node\n",
      "    def set_id(self, id2):\n",
      "            self.id = id2\n",
      "\n",
      "    def set_label(self, label2):\n",
      "            self.label = label2\n",
      "\n",
      "    def set_parents_ids(self, par2):\n",
      "            self.parents = par2\n",
      "\n",
      "    def set_children_ids(self, ch2):\n",
      "            self.children = ch2\n",
      "            \n",
      "    def add_child_id(self,id2):\n",
      "            self.children.append(id2)\n",
      "        \n",
      "    def add_parent_id(self,id2):\n",
      "            self.children.append(id2)\n",
      "    # copy function\n",
      "    def copy(self):\n",
      "        self = copy.copy(self)\n",
      "\n"
     ]
    }
   ],
   "source": [
    "print(inspect.getsource(node))\n"
   ]
  },
  {
   "cell_type": "code",
   "execution_count": 18,
   "id": "f55ef0bb",
   "metadata": {},
   "outputs": [
    {
     "name": "stdout",
     "output_type": "stream",
     "text": [
      "class open_digraph:  # for open directed graph\n",
      "\n",
      "    def __init__(self, inputs, outputs, nodes):\n",
      "        '''\n",
      "        inputs: int list; the ids of the input nodes\n",
      "        outputs: int list; the ids of the output nodes\n",
      "        nodes: node iter;\n",
      "        '''\n",
      "        self.inputs = inputs\n",
      "        self.outputs = outputs\n",
      "        self.nodes = {node.id: node for node in nodes}  # self.nodes: <int,node> dict\n",
      "\n",
      "    def __str__(self):\n",
      "        return f'inputs: {self.inputs}, outputs: {self.outputs}, nodes: {self.nodes}'\n",
      "\n",
      "    def __repr__(self):\n",
      "         return str(self)\n",
      "\n",
      "    # getters open_digraph\n",
      "    def get_input_ids(self):\n",
      "        return self.inputs\n",
      "\n",
      "    def get_output_ids(self):\n",
      "        return self.outputs\n",
      "    \n",
      "    def get_id_node_map(self):\n",
      "        return self.nodes\n",
      "    \n",
      "    def get_nodes(self):\n",
      "        return self.nodes.values()\n",
      "    \n",
      "    def get_node_ids(self):\n",
      "        return self.nodes.values().get_id()\n",
      "    \n",
      "    def set_input_ids(self,id2):\n",
      "        self.inputs = id2\n",
      "        \n",
      "    def set_output_ids(self,id2):\n",
      "        self.outputs = id2\n",
      "        \n",
      "    def add_input_id(self,id2):\n",
      "        self.inputs.append(id2)\n",
      "        \n",
      "    def add_output_id(self,id2):\n",
      "        self.outputs.append(id2)\n",
      "    \n",
      "    def copy(self):\n",
      "        self = copy.copy(self)\n",
      "    @classmethod\n",
      "    def empty(cls):\n",
      "        return cls(0,0, {})\n",
      "\n"
     ]
    }
   ],
   "source": [
    "print(inspect.getsource(open_digraph))\n"
   ]
  },
  {
   "cell_type": "code",
   "execution_count": null,
   "id": "b00bd77d",
   "metadata": {},
   "outputs": [],
   "source": []
  },
  {
   "cell_type": "code",
   "execution_count": null,
   "id": "b18d09fa",
   "metadata": {},
   "outputs": [],
   "source": []
  }
 ],
 "metadata": {
  "kernelspec": {
   "display_name": "Python 3",
   "language": "python",
   "name": "python3"
  },
  "language_info": {
   "codemirror_mode": {
    "name": "ipython",
    "version": 3
   },
   "file_extension": ".py",
   "mimetype": "text/x-python",
   "name": "python",
   "nbconvert_exporter": "python",
   "pygments_lexer": "ipython3",
   "version": "3.9.7"
  },
  "toc": {
   "base_numbering": 1,
   "nav_menu": {},
   "number_sections": true,
   "sideBar": true,
   "skip_h1_title": false,
   "title_cell": "Table of Contents",
   "title_sidebar": "Contents",
   "toc_cell": false,
   "toc_position": {},
   "toc_section_display": true,
   "toc_window_display": false
  },
  "varInspector": {
   "cols": {
    "lenName": 16,
    "lenType": 16,
    "lenVar": 40
   },
   "kernels_config": {
    "python": {
     "delete_cmd_postfix": "",
     "delete_cmd_prefix": "del ",
     "library": "var_list.py",
     "varRefreshCmd": "print(var_dic_list())"
    },
    "r": {
     "delete_cmd_postfix": ") ",
     "delete_cmd_prefix": "rm(",
     "library": "var_list.r",
     "varRefreshCmd": "cat(var_dic_list()) "
    }
   },
   "types_to_exclude": [
    "module",
    "function",
    "builtin_function_or_method",
    "instance",
    "_Feature"
   ],
   "window_display": false
  }
 },
 "nbformat": 4,
 "nbformat_minor": 5
}
